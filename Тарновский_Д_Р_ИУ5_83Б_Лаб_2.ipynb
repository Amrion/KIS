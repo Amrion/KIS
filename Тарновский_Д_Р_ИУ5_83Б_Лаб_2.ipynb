{
  "nbformat": 4,
  "nbformat_minor": 0,
  "metadata": {
    "colab": {
      "provenance": [],
      "include_colab_link": true
    },
    "kernelspec": {
      "name": "ir",
      "display_name": "R"
    },
    "language_info": {
      "name": "R"
    }
  },
  "cells": [
    {
      "cell_type": "markdown",
      "metadata": {
        "id": "view-in-github",
        "colab_type": "text"
      },
      "source": [
        "<a href=\"https://colab.research.google.com/github/Amrion/KIS/blob/main/%D0%A2%D0%B0%D1%80%D0%BD%D0%BE%D0%B2%D1%81%D0%BA%D0%B8%D0%B9_%D0%94_%D0%A0_%D0%98%D0%A35_83%D0%91_%D0%9B%D0%B0%D0%B1_2.ipynb\" target=\"_parent\"><img src=\"https://colab.research.google.com/assets/colab-badge.svg\" alt=\"Open In Colab\"/></a>"
      ]
    },
    {
      "cell_type": "code",
      "source": [],
      "metadata": {
        "id": "mO5K5rLc7sgB"
      },
      "execution_count": null,
      "outputs": []
    },
    {
      "cell_type": "code",
      "execution_count": null,
      "metadata": {
        "id": "_nd2JZDDzsXa"
      },
      "outputs": [],
      "source": [
        "# Заданиче 1\n",
        "Variant<-19\n",
        "set.seed(Variant) \n",
        "X1<-sample(c(1:20),5)\n",
        "X2<-sample(c(3:100),5)\n",
        "X3<-sample(c(0:40),5)\n",
        "pp1<-runif(5)\n",
        "p1<-pp1/sum(pp1)\n",
        "pp2<-runif(5)\n",
        "p2<-pp2/sum(pp2)\n",
        "pp3<-runif(5)\n",
        "p3<-pp3/sum(pp3)"
      ]
    },
    {
      "cell_type": "code",
      "source": [
        "View(data.frame(X1, X2, X3, p1, p2, p3))"
      ],
      "metadata": {
        "colab": {
          "base_uri": "https://localhost:8080/",
          "height": 255
        },
        "id": "Qx51x0iU0M9Y",
        "outputId": "10b09bbc-b5bf-4a4b-e447-b6a9b3562558"
      },
      "execution_count": null,
      "outputs": [
        {
          "output_type": "display_data",
          "data": {
            "text/plain": [
              "  X1 X2 X3 p1        p2         p3        \n",
              "1 10 97  3 0.1648451 0.18270738 0.24987776\n",
              "2  3 17 19 0.2019409 0.08303682 0.25143210\n",
              "3  5 35 23 0.2910926 0.23389495 0.08721866\n",
              "4 19 24  4 0.1869720 0.26954134 0.07875518\n",
              "5 13 45 20 0.1551493 0.23081951 0.33271630"
            ],
            "text/html": [
              "<table class=\"dataframe\">\n",
              "<caption>A data.frame: 5 × 6</caption>\n",
              "<thead>\n",
              "\t<tr><th scope=col>X1</th><th scope=col>X2</th><th scope=col>X3</th><th scope=col>p1</th><th scope=col>p2</th><th scope=col>p3</th></tr>\n",
              "\t<tr><th scope=col>&lt;int&gt;</th><th scope=col>&lt;int&gt;</th><th scope=col>&lt;int&gt;</th><th scope=col>&lt;dbl&gt;</th><th scope=col>&lt;dbl&gt;</th><th scope=col>&lt;dbl&gt;</th></tr>\n",
              "</thead>\n",
              "<tbody>\n",
              "\t<tr><td>10</td><td>97</td><td> 3</td><td>0.1648451</td><td>0.18270738</td><td>0.24987776</td></tr>\n",
              "\t<tr><td> 3</td><td>17</td><td>19</td><td>0.2019409</td><td>0.08303682</td><td>0.25143210</td></tr>\n",
              "\t<tr><td> 5</td><td>35</td><td>23</td><td>0.2910926</td><td>0.23389495</td><td>0.08721866</td></tr>\n",
              "\t<tr><td>19</td><td>24</td><td> 4</td><td>0.1869720</td><td>0.26954134</td><td>0.07875518</td></tr>\n",
              "\t<tr><td>13</td><td>45</td><td>20</td><td>0.1551493</td><td>0.23081951</td><td>0.33271630</td></tr>\n",
              "</tbody>\n",
              "</table>\n"
            ],
            "text/markdown": "\nA data.frame: 5 × 6\n\n| X1 &lt;int&gt; | X2 &lt;int&gt; | X3 &lt;int&gt; | p1 &lt;dbl&gt; | p2 &lt;dbl&gt; | p3 &lt;dbl&gt; |\n|---|---|---|---|---|---|\n| 10 | 97 |  3 | 0.1648451 | 0.18270738 | 0.24987776 |\n|  3 | 17 | 19 | 0.2019409 | 0.08303682 | 0.25143210 |\n|  5 | 35 | 23 | 0.2910926 | 0.23389495 | 0.08721866 |\n| 19 | 24 |  4 | 0.1869720 | 0.26954134 | 0.07875518 |\n| 13 | 45 | 20 | 0.1551493 | 0.23081951 | 0.33271630 |\n\n",
            "text/latex": "A data.frame: 5 × 6\n\\begin{tabular}{llllll}\n X1 & X2 & X3 & p1 & p2 & p3\\\\\n <int> & <int> & <int> & <dbl> & <dbl> & <dbl>\\\\\n\\hline\n\t 10 & 97 &  3 & 0.1648451 & 0.18270738 & 0.24987776\\\\\n\t  3 & 17 & 19 & 0.2019409 & 0.08303682 & 0.25143210\\\\\n\t  5 & 35 & 23 & 0.2910926 & 0.23389495 & 0.08721866\\\\\n\t 19 & 24 &  4 & 0.1869720 & 0.26954134 & 0.07875518\\\\\n\t 13 & 45 & 20 & 0.1551493 & 0.23081951 & 0.33271630\\\\\n\\end{tabular}\n"
          },
          "metadata": {}
        }
      ]
    },
    {
      "cell_type": "code",
      "source": [
        "# Теоретический способ\n",
        "# Мат ожидание\n",
        "M_X1<-sum(p1*X1) \n",
        "M_X2<-sum(p2*X2)\n",
        "M_X3<-sum(p3*X3)\n",
        "M_X<-M_X1+M_X2+M_X3"
      ],
      "metadata": {
        "id": "e0X9bIbh0PNR"
      },
      "execution_count": null,
      "outputs": []
    },
    {
      "cell_type": "code",
      "source": [
        "# Дисперсия\n",
        "D_X1<-sum(p1*(X1-M_X1)^2)\n",
        "D_X2<-sum(p2*(X2-M_X2)^2)\n",
        "D_X3<-sum(p3*(X3-M_X3)^2)\n",
        "D_X<-D_X1+D_X2+D_X3\n"
      ],
      "metadata": {
        "id": "kTZc6zwv0PXy"
      },
      "execution_count": null,
      "outputs": []
    },
    {
      "cell_type": "code",
      "source": [
        "# Ср. квадратичное отклонение\n",
        "Q=sqrt(D_X)"
      ],
      "metadata": {
        "id": "sNRKjtZS0Pg4"
      },
      "execution_count": null,
      "outputs": []
    },
    {
      "cell_type": "code",
      "source": [
        "# Коэфф. вариации случайной величины\n",
        "K=(Q/M_X)*100"
      ],
      "metadata": {
        "id": "UkdB1Fik7dtm"
      },
      "execution_count": null,
      "outputs": []
    },
    {
      "cell_type": "code",
      "source": [
        "# Экспериментальный способ\n",
        "getRes<-function(X,P){\n",
        "  y<-runif(1) # случайные числа от 0 до 1\n",
        "  sum<-0\n",
        "  res<-0\n",
        "  for(i in 1:length(P))\n",
        "    {\n",
        "    sum<-sum+P[i]\n",
        "    if(y<=sum)\n",
        "      {\n",
        "      res<-X[i]\n",
        "      break\n",
        "      }\n",
        "    }\n",
        "  return(res)\n",
        "}\n",
        "\n",
        "experimental<-c()\n",
        "for( i in 1:1000){\n",
        "  experimental<-c(experimental,getRes(X1,p1)+getRes(X2,p2)+getRes(X3,p3))\n",
        "}\n",
        "# Мат ожидание\n",
        "M_exp<-mean(experimental) \n",
        "# Ср. квадратич. отклонение\n",
        "sr_exp<-sd(experimental)\n",
        "# Дисперсия\n",
        "D_exp<-sr_exp^2 \n",
        "# Коэфф. вариации случайной величины\n",
        "K_exp<-(sr_exp/M_exp)*100"
      ],
      "metadata": {
        "id": "SFXucgRS7pJx"
      },
      "execution_count": null,
      "outputs": []
    },
    {
      "cell_type": "code",
      "source": [
        "install.packages(\"polynom\")\n"
      ],
      "metadata": {
        "colab": {
          "base_uri": "https://localhost:8080/"
        },
        "id": "VPHUkHNw8F0O",
        "outputId": "1b35e1f5-e210-40c4-ce22-e7328d712db1"
      },
      "execution_count": null,
      "outputs": [
        {
          "output_type": "stream",
          "name": "stderr",
          "text": [
            "Installing package into ‘/usr/local/lib/R/site-library’\n",
            "(as ‘lib’ is unspecified)\n",
            "\n"
          ]
        }
      ]
    },
    {
      "cell_type": "code",
      "source": [
        "library(polynom)"
      ],
      "metadata": {
        "id": "2RFyy3ZRvCOQ"
      },
      "execution_count": null,
      "outputs": []
    },
    {
      "cell_type": "code",
      "source": [
        "# Способ с использованием производящей функции\n",
        "#expand((0.16*z^10+0.2*z^3+0.29*z5+0.18*z^19+0.15*z^13)*(0.18*z^97+0.08*z^17+0.23*z^35+0.27*z^24+0.23*z^45)*(0.25*z^3+0.25*z^19+0.08z^23+0.09z^4+0.33z^20)\n",
        "\n",
        "\n",
        "\n",
        "generate_poly <- function(X, P) {\n",
        "  res <- sample(0, max(X), replace=TRUE)\n",
        "  for (i in 1:(length(X) + 1)) {\n",
        "    res[X[i] + 1] <- P[i]\n",
        "  }\n",
        "  return(res)\n",
        "}\n",
        "gf <- polynomial(coef = generate_poly(X1, p1)) * polynomial(coef = generate_poly(X2, p2)) *\n",
        "  polynomial(coef = generate_poly(X3, p3))\n",
        "\n",
        "# используем свойства из определения производящей функции\n",
        "\n",
        "# Мат. ожидание (путем взятия  первой производной от точки 1)\n",
        "M <- as.function(deriv(gf))(1)\n",
        "# Дисперсия (путем взятия второй производной)\n",
        "D <- as.function(deriv(deriv(gf)))(1) + M - M^2 \n",
        "# Ср. квадратич.\n",
        "sr <- sqrt(D) \n",
        "# Коэфф. вариации случайной величины, умноженный на 100%\n",
        "k <- (sr / M)*100 # коэффициент вариации случайной величины + умножаем на 100%\n",
        "\n",
        "# Cравним результаты\n",
        "\n",
        "way_1<-c(M_X,D_X,Q,K)\n",
        "way_2<-c(M_exp,D_exp,sr_exp,K_exp)\n",
        "way_3<-c(M,D,sr,k)\n",
        "\n",
        "new_matrix<-rbind(way_1,way_2,way_3)\n",
        "new_matrix\n"
      ],
      "metadata": {
        "colab": {
          "base_uri": "https://localhost:8080/",
          "height": 128
        },
        "id": "dhreOk5t7teS",
        "outputId": "28b3b7ef-67e5-4956-94e4-bc39a516109c"
      },
      "execution_count": null,
      "outputs": [
        {
          "output_type": "display_data",
          "data": {
            "text/html": [
              "<table class=\"dataframe\">\n",
              "<caption>A matrix: 3 × 4 of type dbl</caption>\n",
              "<tbody>\n",
              "\t<tr><th scope=row>way_1</th><td>67.9578</td><td>797.1013</td><td>28.23298</td><td>41.54487</td></tr>\n",
              "\t<tr><th scope=row>way_2</th><td>68.1410</td><td>803.2424</td><td>28.34153</td><td>41.59248</td></tr>\n",
              "\t<tr><th scope=row>way_3</th><td>67.9578</td><td>797.1013</td><td>28.23298</td><td>41.54487</td></tr>\n",
              "</tbody>\n",
              "</table>\n"
            ],
            "text/markdown": "\nA matrix: 3 × 4 of type dbl\n\n| way_1 | 67.9578 | 797.1013 | 28.23298 | 41.54487 |\n| way_2 | 68.1410 | 803.2424 | 28.34153 | 41.59248 |\n| way_3 | 67.9578 | 797.1013 | 28.23298 | 41.54487 |\n\n",
            "text/latex": "A matrix: 3 × 4 of type dbl\n\\begin{tabular}{r|llll}\n\tway\\_1 & 67.9578 & 797.1013 & 28.23298 & 41.54487\\\\\n\tway\\_2 & 68.1410 & 803.2424 & 28.34153 & 41.59248\\\\\n\tway\\_3 & 67.9578 & 797.1013 & 28.23298 & 41.54487\\\\\n\\end{tabular}\n",
            "text/plain": [
              "      [,1]    [,2]     [,3]     [,4]    \n",
              "way_1 67.9578 797.1013 28.23298 41.54487\n",
              "way_2 68.1410 803.2424 28.34153 41.59248\n",
              "way_3 67.9578 797.1013 28.23298 41.54487"
            ]
          },
          "metadata": {}
        }
      ]
    },
    {
      "cell_type": "code",
      "source": [
        "# Полученные значения практически не отличаются"
      ],
      "metadata": {
        "id": "VZg-V7Ep40Oh"
      },
      "execution_count": null,
      "outputs": []
    },
    {
      "cell_type": "code",
      "source": [
        "# Задание 2\n",
        "Variant<-19\n",
        "set.seed(Variant) \n",
        "# a=lambda*tau == теоретическое мат.ожидание и дисперсия, т.к. дисперсия случайной величины, распределенной по закону Пуассона, равна ее математическому ожиданию\n",
        "a<-runif(3) \n",
        "n<-200000 # произвольное количество"
      ],
      "metadata": {
        "id": "V3AlPps88r9-"
      },
      "execution_count": null,
      "outputs": []
    },
    {
      "cell_type": "code",
      "source": [
        "# Способ с использованием производящей функцию для случайной величины, которая распределена по закону Пуассона\n",
        "#Функция rpois из пакета stats генерит случайные числа, распределенные по закону Пуассона с параметром a=lambda*tau\n",
        "\n",
        "library(stats)\n",
        "X1<-rpois(n,a[1])\n",
        "X2<-rpois(n,a[2])\n",
        "X3<-rpois(n,a[3])\n",
        "X<-X1+X2+X3\n",
        "\n",
        "# Теоретическое мат.ожидание и дисперсия распр. по закону Пуассона\n",
        "M_2<-a[1]+a[2]+a[3] \n",
        "D_2<-a[1]+a[2]+a[3]\n",
        "# Ср. квадратич.\n",
        "sr_2<-sqrt(D_2)\n",
        "k_2<-(sr_2/M_2)*100"
      ],
      "metadata": {
        "id": "GD0Uz28h3SfY"
      },
      "execution_count": null,
      "outputs": []
    },
    {
      "cell_type": "code",
      "source": [
        "# Другой способ\n",
        "M_py<-mean(X)\n",
        "# Ср. квадратич.\n",
        "sr_py<-sd(X)\n",
        "# Дисперсия\n",
        "D_py<-sr_py^2 \n",
        "K_py<-(sr_py/M_py)*100\n",
        "\n",
        "\n",
        "# Выведем результаты\n",
        "way_1<-c(M_2,D_2,sr_2,k_2)\n",
        "way_2<-c(M_py,D_py,sr_py,K_py)\n",
        "\n",
        "new_matrix1<-rbind(way_1,way_2)\n",
        "new_matrix1\n"
      ],
      "metadata": {
        "colab": {
          "base_uri": "https://localhost:8080/",
          "height": 97
        },
        "id": "9qyKKl2D4EQ3",
        "outputId": "6cfc7c96-8d75-4e7c-e609-847c09a583b6"
      },
      "execution_count": null,
      "outputs": [
        {
          "output_type": "display_data",
          "data": {
            "text/html": [
              "<table class=\"dataframe\">\n",
              "<caption>A matrix: 2 × 4 of type dbl</caption>\n",
              "<tbody>\n",
              "\t<tr><th scope=row>way_1</th><td>1.252367</td><td>1.252367</td><td>1.119092</td><td>89.35814</td></tr>\n",
              "\t<tr><th scope=row>way_2</th><td>1.252535</td><td>1.245387</td><td>1.115969</td><td>89.09685</td></tr>\n",
              "</tbody>\n",
              "</table>\n"
            ],
            "text/markdown": "\nA matrix: 2 × 4 of type dbl\n\n| way_1 | 1.252367 | 1.252367 | 1.119092 | 89.35814 |\n| way_2 | 1.252535 | 1.245387 | 1.115969 | 89.09685 |\n\n",
            "text/latex": "A matrix: 2 × 4 of type dbl\n\\begin{tabular}{r|llll}\n\tway\\_1 & 1.252367 & 1.252367 & 1.119092 & 89.35814\\\\\n\tway\\_2 & 1.252535 & 1.245387 & 1.115969 & 89.09685\\\\\n\\end{tabular}\n",
            "text/plain": [
              "      [,1]     [,2]     [,3]     [,4]    \n",
              "way_1 1.252367 1.252367 1.119092 89.35814\n",
              "way_2 1.252535 1.245387 1.115969 89.09685"
            ]
          },
          "metadata": {}
        }
      ]
    },
    {
      "cell_type": "code",
      "source": [
        "# Полученные значения практически не отличаются"
      ],
      "metadata": {
        "id": "CKevcT7J3hY_"
      },
      "execution_count": null,
      "outputs": []
    },
    {
      "cell_type": "code",
      "source": [
        "# Задание 3 "
      ],
      "metadata": {
        "id": "sJDdQdOo47uw"
      },
      "execution_count": null,
      "outputs": []
    },
    {
      "cell_type": "code",
      "source": [
        "Variant<-19\n",
        "set.seed(Variant) \n",
        "lambda<-runif(7)[7]\n",
        "T<-1/lambda\n",
        "\n",
        "# закон распределения случайной величины (СВ), \n",
        "# распределенной по экспоненциальному закону\n",
        "# F(t) = P(тау<t) = 1 - e^(-lambda*t)\n",
        "\n",
        "# плотность вероятности F(t)\n",
        "# f(t) = F'(t) = lambda*e^(-lambda*t)\n",
        "\n",
        "# переход от действительной переменной к комплексной\n",
        "# Bi(s) = integral(0,inf) [e^-st] dF(t) \n",
        "#      = integral(0,inf) [(e^-st) * f(t)] dt\n",
        "#      = integral(0,inf) [(e^-st) * lambda*e^(-lambda*t)]dt <- это вводим в вольфрам\n",
        "#      = lambda/(lambda+s)\n",
        "\n",
        "# мат.ожидание \n",
        "# M(тау) = -B'(s) |s=0\n",
        "#        = -(lambda/(lambda+s))'\n",
        "#        = -(-lambda/((lambda+s)^2)) | s=0\n",
        "#        = 1/lambda\n",
        "M3teor = 1/lambda\n",
        "# дисперсия\n",
        "# D(тау) = B''(s) - (B'(s))^2 |s=0\n",
        "# B''(s) = (lambda/(lambda+s))''\n",
        "#        = (2*lambda) / (lambda + s)^3 |s=0\n",
        "#        = 2/*lambda^2\n",
        "# D(тау) = 2/*lambda^2 - (-1/lambda)^2\n",
        "#        = 1/*lambda^2\n",
        "D3teor = 1/(lambda^2)\n",
        "# среднее квадратичное\n",
        "SD3teor <- sqrt(D3teor)\n",
        "# коэфициент вариации\n",
        "COV3teor <- (SD3teor/M3teor)*100\n",
        "\n",
        "# экспериментально\n",
        "n <- 10000\n",
        "exp3<-rexp(n,lambda) \n",
        "M3exp = mean(exp3)\n",
        "SD3exp = sd(exp3)\n",
        "D3exp <- SD3exp^2\n",
        "COV3exp <- (SD3exp/M3exp)*100\n",
        "\n",
        "# для k программ\n",
        "# если непрерывная случайная величина тау определяется, как сумма случайных величин\n",
        "# значит преобразование Лапласа-Стилтьеса (Л-С) для СВ тау равно произведению \n",
        "# преобразований Л-С для каждой величин тау_1 + ... + тау_k\n",
        "# тау =  тау_1 + тау_2 + ... + тау_k\n",
        "# B(s) = B1(s) + B2(s) + ... + Bk(s) = (Bi(s))^k\n",
        "# B'(s) = ((lambda/(lambda+s))^k)' -> в вольфрам \n",
        "#       = - k * lambda^k * (s+lambda)^(-k-1) |s=0\n",
        "#       = - k * lambda^k * lambda^(-k-1)\n",
        "#       = - k / lambda\n",
        "# B''(s) = ((lambda/(lambda+s))^k)''\n",
        "#        = - k * (-k-1) * lambda^k * (s+lambda)^(-k-2) |s=0\n",
        "#        = (k^2+k) * lambda^k * lambda^(-k-2)\n",
        "#        = (k^2+k) / lambda^2\n",
        "# M = -B'(s) = k/lambda\n",
        "# D = B''(s) - (B'(s))^2 = \n",
        "#   = (k^2+k)/lambda^2 - k^2/lambda^2\n",
        "#   = k/lambda^2\n",
        "k <- 100 # любой\n",
        "\n",
        "M3teork = k/lambda\n",
        "D3teork = k/(lambda^2)\n",
        "SD3teork <- sqrt(D3teork)\n",
        "COV3teork <- (SD3teork/M3teork)*100\n",
        "\n",
        "# экспериментально для k случайных величин\n",
        "n <- 10000\n",
        "\n",
        "exp3k<-c()\n",
        "for (i in c(1:n)) {\n",
        "  r <- rexp(k,lambda);\n",
        "  exp3k <- append(exp3k ,sum(r))\n",
        "}\n",
        "\n",
        "M3expk = mean(exp3k)\n",
        "SD3expk = sd(exp3k)\n",
        "D3expk <- SD3expk^2\n",
        "COV3expk <- (SD3expk/M3expk)*100\n",
        "\n",
        "results3 = data.frame(row.names=c(\"мат.ожидание\", \"дисперсия\", \"ср.квадратичное\", \"коэф.вариации\"))\n",
        "results3['Теоретически'] = c(M3teor, D3teor, SD3teor, COV3teor)\n",
        "results3['Экспериментально'] = c(M3exp, D3exp, SD3exp, COV3exp)\n",
        "results3[paste('Экспериментально для k =', k)] = c(M3teork, D3teork, SD3teork, COV3teork)\n",
        "results3[paste('Теоретически для k =', k)] = c(M3expk, D3expk, SD3expk, COV3expk)\n",
        "\n",
        "View(results3)"
      ],
      "metadata": {
        "colab": {
          "base_uri": "https://localhost:8080/",
          "height": 223
        },
        "id": "gsPZ3S6P8WQN",
        "outputId": "115ef2a2-55d5-480f-e224-b0cbdd851fa5"
      },
      "execution_count": null,
      "outputs": [
        {
          "output_type": "display_data",
          "data": {
            "text/plain": [
              "                Теоретически Экспериментально Экспериментально для k = 100\n",
              "мат.ожидание      3.426047    3.432892         342.60466                  \n",
              "дисперсия        11.737796   11.726615        1173.77956                  \n",
              "ср.квадратичное   3.426047    3.424415          34.26047                  \n",
              "коэф.вариации   100.000000   99.753052          10.00000                  \n",
              "                Теоретически для k = 100\n",
              "мат.ожидание     342.4688               \n",
              "дисперсия       1178.5076               \n",
              "ср.квадратичное   34.3294               \n",
              "коэф.вариации     10.0241               "
            ],
            "text/html": [
              "<table class=\"dataframe\">\n",
              "<caption>A data.frame: 4 × 4</caption>\n",
              "<thead>\n",
              "\t<tr><th></th><th scope=col>Теоретически</th><th scope=col>Экспериментально</th><th scope=col>Экспериментально для k = 100</th><th scope=col>Теоретически для k = 100</th></tr>\n",
              "\t<tr><th></th><th scope=col>&lt;dbl&gt;</th><th scope=col>&lt;dbl&gt;</th><th scope=col>&lt;dbl&gt;</th><th scope=col>&lt;dbl&gt;</th></tr>\n",
              "</thead>\n",
              "<tbody>\n",
              "\t<tr><th scope=row>мат.ожидание</th><td>  3.426047</td><td> 3.432892</td><td> 342.60466</td><td> 342.4688</td></tr>\n",
              "\t<tr><th scope=row>дисперсия</th><td> 11.737796</td><td>11.726615</td><td>1173.77956</td><td>1178.5076</td></tr>\n",
              "\t<tr><th scope=row>ср.квадратичное</th><td>  3.426047</td><td> 3.424415</td><td>  34.26047</td><td>  34.3294</td></tr>\n",
              "\t<tr><th scope=row>коэф.вариации</th><td>100.000000</td><td>99.753052</td><td>  10.00000</td><td>  10.0241</td></tr>\n",
              "</tbody>\n",
              "</table>\n"
            ],
            "text/markdown": "\nA data.frame: 4 × 4\n\n| <!--/--> | Теоретически &lt;dbl&gt; | Экспериментально &lt;dbl&gt; | Экспериментально для k = 100 &lt;dbl&gt; | Теоретически для k = 100 &lt;dbl&gt; |\n|---|---|---|---|---|\n| мат.ожидание |   3.426047 |  3.432892 |  342.60466 |  342.4688 |\n| дисперсия |  11.737796 | 11.726615 | 1173.77956 | 1178.5076 |\n| ср.квадратичное |   3.426047 |  3.424415 |   34.26047 |   34.3294 |\n| коэф.вариации | 100.000000 | 99.753052 |   10.00000 |   10.0241 |\n\n",
            "text/latex": "A data.frame: 4 × 4\n\\begin{tabular}{r|llll}\n  & Теоретически & Экспериментально & Экспериментально для k = 100 & Теоретически для k = 100\\\\\n  & <dbl> & <dbl> & <dbl> & <dbl>\\\\\n\\hline\n\tмат.ожидание &   3.426047 &  3.432892 &  342.60466 &  342.4688\\\\\n\tдисперсия &  11.737796 & 11.726615 & 1173.77956 & 1178.5076\\\\\n\tср.квадратичное &   3.426047 &  3.424415 &   34.26047 &   34.3294\\\\\n\tкоэф.вариации & 100.000000 & 99.753052 &   10.00000 &   10.0241\\\\\n\\end{tabular}\n"
          },
          "metadata": {}
        }
      ]
    },
    {
      "cell_type": "code",
      "source": [
        "# Полученные значения практически не отличаются"
      ],
      "metadata": {
        "id": "1Mt0er-ybi3x"
      },
      "execution_count": null,
      "outputs": []
    },
    {
      "cell_type": "code",
      "source": [
        "# Задание 4 "
      ],
      "metadata": {
        "id": "CgfsObnWboHV"
      },
      "execution_count": null,
      "outputs": []
    },
    {
      "cell_type": "code",
      "source": [
        "# теоретически\n",
        "# из лекции2 (пример5)\n",
        "# производящая функция СВ, распределенной по закону Пуассона\n",
        "# P(z) = e^(-lambda*t*(1-z))  | alpha = lambda*t\n",
        "#     = e^(alpha*(z-1))\n",
        "# P(z1+z2+...) = sum(Pi(z)) |i = sum(e^(alpha_i*(z-1))) |i = e^(alpha*(z-1))\n",
        "# (здесь alpha = sum(alpha_i) |i)\n",
        "\n",
        "# P(z1), P(z2) ... - соотв. закону Пуассона\n",
        "# -> P(z1+z2+...) = e^(alpha*(z-1)) -> тоже соотв. закону Пуассона\n",
        "\n",
        "# экспериментально\n",
        "# Для пуассоновской случайной величины математическое ожидание \n",
        "# и дисперсия совпадают с интенсивностью потока событий (lambda*t)\n",
        "# То есть, если M=D=lambda*t, то величина распределена по закону Пуассона\n",
        "\n",
        "T <- 1\n",
        "n <- 1000\n",
        "sum <- 0\n",
        "lambda <- 3 # берем любой, для эксперимента\n",
        "\n",
        "for (i in c(1:n)){\n",
        "  r<- rpois(1, lambda*T) # случайная величина, распределенная по закону Пуассона\n",
        "  \n",
        "  for (j in c(1:r)) {\n",
        "    r = runif(1)\n",
        "    if (r <= 1) {\n",
        "      sum <- sum+1\n",
        "    }\n",
        "  }\n",
        "}\n",
        "\n",
        "print(sum/n)\n",
        "print(lambda*T)\n",
        "# > print(sum/n)\n",
        "# [1] 3.0835\n",
        "# > print(lambda*T)\n",
        "# [1] 3\n",
        "# числа примерно равны, значит суммарная величина распределена по закону пуассона\n",
        "\n",
        "results4 = data.frame(row.names=c(\"мат.ожидание\"))\n",
        "results4['Теоретически'] = c(lambda*T)\n",
        "results4['Экспериментально'] = c(sum/n)\n",
        "View(results4)"
      ],
      "metadata": {
        "colab": {
          "base_uri": "https://localhost:8080/",
          "height": 166
        },
        "id": "b3tk8Zsx8mcx",
        "outputId": "7b2ed3c2-7462-4597-9828-0bed4ec54b74"
      },
      "execution_count": null,
      "outputs": [
        {
          "output_type": "stream",
          "name": "stdout",
          "text": [
            "[1] 3.126\n",
            "[1] 3\n"
          ]
        },
        {
          "output_type": "display_data",
          "data": {
            "text/plain": [
              "             Теоретически Экспериментально\n",
              "мат.ожидание 3            3.126           "
            ],
            "text/html": [
              "<table class=\"dataframe\">\n",
              "<caption>A data.frame: 1 × 2</caption>\n",
              "<thead>\n",
              "\t<tr><th></th><th scope=col>Теоретически</th><th scope=col>Экспериментально</th></tr>\n",
              "\t<tr><th></th><th scope=col>&lt;dbl&gt;</th><th scope=col>&lt;dbl&gt;</th></tr>\n",
              "</thead>\n",
              "<tbody>\n",
              "\t<tr><th scope=row>мат.ожидание</th><td>3</td><td>3.126</td></tr>\n",
              "</tbody>\n",
              "</table>\n"
            ],
            "text/markdown": "\nA data.frame: 1 × 2\n\n| <!--/--> | Теоретически &lt;dbl&gt; | Экспериментально &lt;dbl&gt; |\n|---|---|---|\n| мат.ожидание | 3 | 3.126 |\n\n",
            "text/latex": "A data.frame: 1 × 2\n\\begin{tabular}{r|ll}\n  & Теоретически & Экспериментально\\\\\n  & <dbl> & <dbl>\\\\\n\\hline\n\tмат.ожидание & 3 & 3.126\\\\\n\\end{tabular}\n"
          },
          "metadata": {}
        }
      ]
    },
    {
      "cell_type": "code",
      "source": [
        "# Задание 5"
      ],
      "metadata": {
        "id": "sYoyYJyvwVDH"
      },
      "execution_count": null,
      "outputs": []
    },
    {
      "cell_type": "markdown",
      "source": [
        "\n",
        "Серверная станция состоит из двух модулей питания. Время безотказной работы каждого из них распределено по показательному закону с одинаковыми параметрами:\n",
        "\\begin{align}\n",
        "𝑓(𝑡)=𝜆𝑒^{−𝜆𝑡} \n",
        "\\end{align}\n",
        "𝑡  - время работы одного модуля до первого отказа. Второй модуль питания включается сразу же после отказа первого. Определить плотность вероятности времени безотказной работы всей системы, а также математическое ожидание и дисперсию времени безотказной работы."
      ],
      "metadata": {
        "id": "bqL16Z63SPW-"
      }
    },
    {
      "cell_type": "markdown",
      "source": [
        "время безотказной работы модуля 1 и 2:\n",
        "\\begin{align}\n",
        "t1, t2 \n",
        "\\end{align}\n",
        "\n",
        "время безотказной работы всей системы:\n",
        "\\begin{align}\n",
        "t = t_1+t_2 \n",
        "\\end{align}\n",
        "\n",
        "Таким образом, необходимо определить, каково распределение вероятности для случайной величины t.\n",
        "\n",
        "\\begin{align}\n",
        "F(t_i<T) = 1 - e^{-λt_i}\n",
        "\\end{align}\n",
        "** Плотность распределения вероятностей **\n",
        "(Свойство 9)\n",
        "\n",
        "\\begin{align}\n",
        "  \\int_{A(t)}^{B(t)} f(t1)*f(t-t1) dt1\n",
        "\\end{align}\n",
        "\n",
        "\\begin{align}\n",
        "  f(t1) = λe^{-λt1}\n",
        "\\end{align}\n",
        "\n",
        "\\begin{align}\n",
        "  f(t2) = λe^{-λ(t-t1)}\n",
        "\\end{align}\n",
        "\n",
        "Пределы интегрирования A и B вычисляются по формулам:\n",
        "\\begin{align}\n",
        "  A(t) = a + \\frac{(t-(a+d) + |t-(a+d)|)}{2}\n",
        "\\end{align}\n",
        "\n",
        "\\begin{align}\n",
        "B(t) =  b + \\frac{(t-(b+c) - |t-(b+c)|)}{2}\n",
        "\\end{align}\n",
        "\n",
        "\\begin{align}\n",
        "  a <= t1 <= b, c <= t2 <= d\n",
        "\\end{align}\n",
        "\n",
        "\\begin{align}\n",
        "  a = c = 0, b = d = inf\n",
        "\\end{align}\n",
        "Выполним преобразование Лапласа над плотностью вероятности:\n",
        "\\begin{align}\n",
        "   B_t(s) = \\int_{0}^{inf} e^{-st}dF(t) = \\int_{0}^{inf} e^{-st}f(t)dt\n",
        "\\end{align}\n",
        "\n",
        "\\begin{align}\n",
        "   B_t(s) = \\int_{0}^{inf} e^{-st}λ^2 e^{(-λt)}t dt\n",
        "\\end{align}\n",
        "\n",
        "\\begin{align}\n",
        "   B_t(s) = \\frac{λ^2}{(λ+s)^2}\n",
        "\\end{align}\n",
        "\n",
        "** Математическое ожидание **\n",
        "\\begin{align}\n",
        "   M = -B'_t(s)|_{s=0}\n",
        "\\end{align}\n",
        "\n",
        "\\begin{align}\n",
        "   M = - \\frac{-2λ^2}{(s+λ)^3} |_{s=0} = - \\frac{-2}{λ} = \\frac{2}{λ}\n",
        "\\end{align}\n",
        "\n",
        "** Дисперсия **\n",
        "\\begin{align}\n",
        "   D = B''_t(s)-(B'_t(s))^2|_{s=0}\n",
        "\\end{align}\n",
        "\n",
        "\\begin{align}\n",
        "   D = \\frac{6}{λ^2} - \\left(\\frac{-2}{λ}\\right)^2 = \\frac{2}{λ^2}\n",
        "\\end{align}"
      ],
      "metadata": {
        "id": "xIu2-WhwSSxY"
      }
    },
    {
      "cell_type": "code",
      "source": [
        "Variant<-19\n",
        "alpha<-runif(100)[77]\n",
        "alpha"
      ],
      "metadata": {
        "colab": {
          "base_uri": "https://localhost:8080/",
          "height": 34
        },
        "id": "jxy7SNmowWx1",
        "outputId": "39881c4a-f0c9-4690-e3ae-b18e77d03a69"
      },
      "execution_count": null,
      "outputs": [
        {
          "output_type": "display_data",
          "data": {
            "text/html": [
              "0.0405463564675301"
            ],
            "text/markdown": "0.0405463564675301",
            "text/latex": "0.0405463564675301",
            "text/plain": [
              "[1] 0.04054636"
            ]
          },
          "metadata": {}
        }
      ]
    },
    {
      "cell_type": "code",
      "source": [
        "# Теоретический способ\n",
        "M_5<-2/alpha\n",
        "D_5<-2/(alpha)^2"
      ],
      "metadata": {
        "id": "dAJKQn4RwZu4"
      },
      "execution_count": null,
      "outputs": []
    },
    {
      "cell_type": "code",
      "source": [
        "# Экспериментальный способ\n",
        "library(stats)\n",
        "n<-20000\n",
        "t1<-c()\n",
        "for (i in c(1:n)) {\n",
        "  t<-sum(rexp(2, alpha))\n",
        "  t1<-c(t1, t)\n",
        "}\n",
        "\n",
        "M_exp<-mean(t1)\n",
        "D_exp<-sd(t1)^2"
      ],
      "metadata": {
        "id": "28xINcp9w0tu"
      },
      "execution_count": null,
      "outputs": []
    },
    {
      "cell_type": "code",
      "source": [
        "way_1<-c(M_5,D_5) # теоретическое\n",
        "way_2<-c(M_exp,D_exp) #экспериментальное\n",
        "\n",
        "new_matrix5<-rbind(way_1,way_2)\n",
        "new_matrix5"
      ],
      "metadata": {
        "colab": {
          "base_uri": "https://localhost:8080/",
          "height": 97
        },
        "id": "lXN3FHLaFD3Q",
        "outputId": "c3226213-5d27-4554-a0a1-9d2e6dc37307"
      },
      "execution_count": null,
      "outputs": [
        {
          "output_type": "display_data",
          "data": {
            "text/html": [
              "<table class=\"dataframe\">\n",
              "<caption>A matrix: 2 × 2 of type dbl</caption>\n",
              "<tbody>\n",
              "\t<tr><th scope=row>way_1</th><td>49.32626</td><td>1216.540</td></tr>\n",
              "\t<tr><th scope=row>way_2</th><td>49.24388</td><td>1249.579</td></tr>\n",
              "</tbody>\n",
              "</table>\n"
            ],
            "text/markdown": "\nA matrix: 2 × 2 of type dbl\n\n| way_1 | 49.32626 | 1216.540 |\n| way_2 | 49.24388 | 1249.579 |\n\n",
            "text/latex": "A matrix: 2 × 2 of type dbl\n\\begin{tabular}{r|ll}\n\tway\\_1 & 49.32626 & 1216.540\\\\\n\tway\\_2 & 49.24388 & 1249.579\\\\\n\\end{tabular}\n",
            "text/plain": [
              "      [,1]     [,2]    \n",
              "way_1 49.32626 1216.540\n",
              "way_2 49.24388 1249.579"
            ]
          },
          "metadata": {}
        }
      ]
    },
    {
      "cell_type": "code",
      "source": [
        "# Полученные значения практически не отличаются"
      ],
      "metadata": {
        "id": "HNQO382cFZav"
      },
      "execution_count": null,
      "outputs": []
    }
  ]
}